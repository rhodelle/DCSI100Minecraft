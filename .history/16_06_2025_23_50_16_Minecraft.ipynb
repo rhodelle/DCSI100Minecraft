{
 "cells": [
  {
   "cell_type": "markdown",
   "id": "705b03d2-7b37-44e5-8c5a-dbdb78fa7216",
   "metadata": {},
   "source": [
    "### Data Science 100 Project"
   ]
  },
  {
   "cell_type": "markdown",
   "id": "5c3ae86b-7ae1-4132-bee8-a3b62752cbbd",
   "metadata": {},
   "source": [
    "# Classification: Predict a Top 10 Player Based on Characteristics"
   ]
  },
  {
   "cell_type": "markdown",
   "id": "a8893e6f-b1a4-4e12-b820-c60dd200133d",
   "metadata": {},
   "source": [
    "Author: Rhodelle Lavarias | 77150522"
   ]
  },
  {
   "cell_type": "markdown",
   "id": "a53412a6-7031-4242-a2a6-ead9204081c4",
   "metadata": {},
   "source": [
    "## Introduction"
   ]
  },
  {
   "cell_type": "markdown",
   "id": "8a7cf3fa-b7a3-46dc-9407-0cccf2760002",
   "metadata": {},
   "source": [
    "Background: Minecraft is an open-world sandbox game created in 2011 by the company Mojang Studio, which allows players to explore and create, either by themselves or with other players. Having a global player base of millions of people over the world, it has become one of the most recognisable and influential video games of all time. A research group led by Frank Wood in UBC's Computer Science program have created a Minecraft server, while also recording players actions and characteristics as they play on the server. The group wants to study player behaviour as running a large server comes with many challenges with resources. They must efficiently allocate limited resources such as server hardware in order to support the amount of players they have playing. Therefore, they must also target recruitment efforts towards valuable users, which would be those who play a significant amount and can accordingly contribute high-quantity data which would be able to further help their efforts towards obtaining meaningful data and patterns. To support this effort, the group wants to find out through data how different types of players engage within the game.\n",
    "\n",
    "My project will focus on addressing the second of three broad questions by the group:\n",
    "We would like to know which \"kinds\" of players are most likely to contribute a large amount of data so that we can target those players in our recruiting efforts.\n",
    "\n",
    "To explore this topic I aim to categorize the top 10% of players based on how many hours they have played and build a classification model to predict whether a player belongs to the top 10% based on demographic and experience data. This could help find patterns in characteristics of players who engage the most and allow the group to accordingly aim their outreach effort towards the right direction."
   ]
  },
  {
   "cell_type": "markdown",
   "id": "24c33156-6120-4c4e-af98-61f5e31b2346",
   "metadata": {},
   "source": [
    "## Research Question"
   ]
  },
  {
   "cell_type": "markdown",
   "id": "8709b0b7-9963-4146-ae78-7ed0d43bbf4d",
   "metadata": {},
   "source": [
    "The question I will investigate is:\n",
    "\n",
    "**Can we predict whether a player is in the top 10% of total hours played based on their age, gender, and experience level?**\n",
    "\n",
    "This question will help us to find patterns in player engagement and build a predictive model to predict played hours with k-nn classification with tidymodels.\n"
   ]
  },
  {
   "cell_type": "markdown",
   "id": "a45080ec-a01b-4c21-a6e5-daf6bb162721",
   "metadata": {},
   "source": [
    "I chose to use k-nearest neighbours classification to answer the research question as this approach is a simple and effective non-parametric method. This model works by comparing a new player to their k most similar players in the training data and then assigning the majority class label among those neighbours. We also do not need strong assumptions for this model."
   ]
  },
  {
   "cell_type": "code",
   "execution_count": null,
   "id": "ff8371fb-6147-49fc-adc2-79671e95159a",
   "metadata": {},
   "outputs": [],
   "source": [
    "git add ."
   ]
  },
  {
   "cell_type": "code",
   "execution_count": null,
   "id": "78dcf92a-5cbd-43f7-9b8f-a01c904923df",
   "metadata": {},
   "outputs": [],
   "source": []
  }
 ],
 "metadata": {
  "kernelspec": {
   "display_name": "R",
   "language": "R",
   "name": "ir"
  },
  "language_info": {
   "codemirror_mode": "r",
   "file_extension": ".r",
   "mimetype": "text/x-r-source",
   "name": "R",
   "pygments_lexer": "r",
   "version": "4.3.3"
  }
 },
 "nbformat": 4,
 "nbformat_minor": 5
}
