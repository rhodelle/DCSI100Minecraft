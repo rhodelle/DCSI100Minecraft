{
 "cells": [
  {
   "cell_type": "markdown",
   "id": "705b03d2-7b37-44e5-8c5a-dbdb78fa7216",
   "metadata": {},
   "source": [
    "### Data Science 100 Project"
   ]
  },
  {
   "cell_type": "markdown",
   "id": "5c3ae86b-7ae1-4132-bee8-a3b62752cbbd",
   "metadata": {},
   "source": [
    "# Classification: Predict a Top 10 Player Based on Characteristics"
   ]
  },
  {
   "cell_type": "markdown",
   "id": "a8893e6f-b1a4-4e12-b820-c60dd200133d",
   "metadata": {},
   "source": [
    "Author: Rhodelle Lavarias | 77150522"
   ]
  },
  {
   "cell_type": "markdown",
   "id": "a53412a6-7031-4242-a2a6-ead9204081c4",
   "metadata": {},
   "source": [
    "## Introduction"
   ]
  },
  {
   "cell_type": "markdown",
   "id": "8a7cf3fa-b7a3-46dc-9407-0cccf2760002",
   "metadata": {},
   "source": [
    "Background: Minecraft is an open-world sandbox game created in 2011 by the company Mojang Studio, which allows players to explore and create, either by themselves or with other players. Having a global player base of millions of people over the world, it has become one of the most recognisable and influential video games of all time. A research group led by Frank Wood in UBC's Computer Science program have created a Minecraft server, while also recording players actions and characteristics as they play on the server. The group wants to study player behaviour as running a large server comes with many challenges with resources. They must efficiently allocate limited resources such as server hardware in order to support the amount of players they have playing. Therefore, they must also target recruitment efforts towards valuable users, which would be those who play a significant amount and can accordingly contribute high-quantity data which would be able to further help their efforts towards obtaining meaningful data and patterns. To support this effort, the group wants to find out through data how different types of players engage within the game.\n",
    "\n",
    "My project will focus on addressing the second of three broad questions by the group:\n",
    "We would like to know which \"kinds\" of players are most likely to contribute a large amount of data so that we can target those players in our recruiting efforts.\n",
    "\n",
    "To explore this topic I aim to categorize the top 10% of players based on how many hours they have played and build a classification model to predict whether a player belongs to the top 10% based on demographic and experience data. This could help find patterns in characteristics of players who engage the most and allow the group to accordingly aim their outreach effort towards the right direction."
   ]
  },
  {
   "cell_type": "markdown",
   "id": "24c33156-6120-4c4e-af98-61f5e31b2346",
   "metadata": {},
   "source": [
    "## Research Question"
   ]
  },
  {
   "cell_type": "markdown",
   "id": "8709b0b7-9963-4146-ae78-7ed0d43bbf4d",
   "metadata": {},
   "source": [
    "The question I will investigate is:\n",
    "\n",
    "**Can we predict whether a player is in the top 10% of total hours played based on their age, gender, and experience level?**\n",
    "\n",
    "This question will help us to find patterns in player engagement and build a predictive model to predict played hours with k-nn classification with tidymodels.\n"
   ]
  },
  {
   "cell_type": "markdown",
   "id": "a45080ec-a01b-4c21-a6e5-daf6bb162721",
   "metadata": {},
   "source": [
    "I chose to use k-nearest neighbours classification to answer the research question as this approach is a simple and effective non-parametric method. This model works by comparing a new player to their k most similar players in the training data and then assigning the majority class label among those neighbours. We also do not need strong assumptions for this model."
   ]
  },
  {
   "cell_type": "markdown",
   "id": "d688780e-06f3-4828-beeb-8324fd59ceff",
   "metadata": {},
   "source": [
    "## Data Description"
   ]
  },
  {
   "cell_type": "markdown",
   "id": "1eb80a84-9607-40f1-84ec-4f9f6b646ffe",
   "metadata": {},
   "source": [
    "In this project, I will be using the `players.csv` dataset collected from the Minecraft server hosted by the UBC group."
   ]
  },
  {
   "cell_type": "markdown",
   "id": "85dfe1a6-5078-478d-9668-9e9649200588",
   "metadata": {},
   "source": [
    "**Summary of Dataset:**\n",
    "- **File name**: `players.csv`\n",
    "- **Number of observations**: 196\n",
    "- **Number of variables**: 7\n",
    "- **Unit of observation**: One row per unique player\n",
    "- **Goal**: Predict whether a player belongs to the **top 10%** in terms of total playtime"
   ]
  },
  {
   "cell_type": "code",
   "execution_count": null,
   "id": "48bd047b-6a6f-4536-9792-14f1ee87ee26",
   "metadata": {},
   "outputs": [],
   "source": [
    "players <- read.csv(\"data/players.csv\")"
   ]
  },
  {
   "cell_type": "markdown",
   "id": "33f2f198-9a41-4c4f-9e3f-d8a958af39f6",
   "metadata": {},
   "source": [
    "| Variable Name   | R Type      | Variable Type       | Level of Measurement | Description |\n",
    "|-----------------|-------------|----------------------|-----------------------|-------------|\n",
    "| `experience`    | `<chr>`     | Qualitative          | Ordinal               | Player’s skill level |\n",
    "| `subscribe`     | `<lgl>`     | Qualitative          | Nominal               | TRUE/FALSE – whether the player subscribed to the newsletter |\n",
    "| `hashedEmail`   | `<chr>`     | Qualitative          | Nominal               | Player ID (used to match the same players in other data) |\n",
    "| `played_hours`  | `<dbl>`     | Quantitative         | Ratio                 | Total hours spent in-game  |\n",
    "| `name`          | `<chr>`     | Qualitative          | Nominal               | Player’s name|\n",
    "| `gender`        | `<chr>`     | Qualitative          | Nominal               | Gender |\n",
    "| `Age`           | `<dbl>`     | Quantitative         | Ratio                 | Age in years  |"
   ]
  },
  {
   "cell_type": "markdown",
   "id": "df80d3a0-8728-4afd-b2a0-c1f8dc101303",
   "metadata": {},
   "source": [
    "An immediate issue which is visible in the data is that `experience` is a categorical variable. We just convert this into a factor as there are rankings to this variable.\n",
    "Some potential unseen issues could be that there could be self-reporting bias if the players are inputting the information themselves, as well as sampling bias as players who may join this sercer could behave differently than if they were to join a regular server."
   ]
  },
  {
   "cell_type": "markdown",
   "id": "c9eea38d-6a17-4333-9790-bcbb7a6a5f12",
   "metadata": {},
   "source": [
    "Notes on data collection:\n",
    "- All data was collected from **a custom Minecraft server** meant to log player behaviour and characteristics\n",
    "- `played_hours` is likely tracked through server session logs\n",
    "- `experience`, `gender`, and `age` were likely provided by players, likely via registration"
   ]
  },
  {
   "cell_type": "markdown",
   "id": "db42bcc6-5c6d-497d-974a-fe0f4403cfe7",
   "metadata": {},
   "source": [
    "## Method"
   ]
  },
  {
   "cell_type": "markdown",
   "id": "c0ddc982-b030-4bdb-a81e-483c7c410bbe",
   "metadata": {},
   "source": [
    "First we will load our libraries, `tidyverse` and `tidymodels`, and our data, `players_csv`and assign to an object named `playerdata`:"
   ]
  },
  {
   "cell_type": "code",
   "execution_count": null,
   "id": "b1987a54-6674-4267-8a8e-50235545bb38",
   "metadata": {},
   "outputs": [],
   "source": [
    "library(tidyverse)\n",
    "library(tidymodels)\n",
    "playerdata <- read_csv(\"data/players.csv\")\n",
    "glimpse(playerdata)"
   ]
  },
  {
   "cell_type": "markdown",
   "id": "14dadf29-aead-4478-a414-61472f2c6c0b",
   "metadata": {},
   "source": [
    "We then must clean and prepare the data. We will be separating the players by the number of hours they play and the top 10% are labelled with `top` as they will be considered a top 10% player.\n"
   ]
  },
  {
   "cell_type": "markdown",
   "id": "66b0092e-0524-4593-b3f6-b6953cf78289",
   "metadata": {},
   "source": [
    "Clean and prepare:\n",
    "\n",
    "In this step we are now using the quantile function to order the player data in ascending order based on player hours, and then finding the top ten percent. Then, we create a new column indicating if they are considered a top 10% player, whether they have `top` or `not_top`. \n",
    "\n",
    "In addition, we are also converting `gender`, `experience` and `top_player` to be factor variables."
   ]
  },
  {
   "cell_type": "code",
   "execution_count": null,
   "id": "b42da1fa-59f5-49a4-8a04-48d091e733bb",
   "metadata": {},
   "outputs": [],
   "source": [
    "threshold <- quantile(playerdata$played_hours, 0.9)\n",
    "\n",
    "exp_levels <- c(\"Amateur\", \"Regular\", \"Veteran\", \"Pro\")\n",
    "\n",
    "players_clean <- playerdata |>\n",
    "  mutate(\n",
    "    experience = factor(experience,\n",
    "                        levels = exp_levels,\n",
    "                        ordered = TRUE),\n",
    "         experience_num = as.integer(experience),\n",
    "    top_player  = as.factor(if_else(played_hours >= threshold, \"top\", \"not_top\")),\n",
    "    gender      = as.factor(gender)\n",
    "  )"
   ]
  },
  {
   "cell_type": "code",
   "execution_count": null,
   "id": "e4d20a5e-8cdf-47fc-b727-7875bdc75f78",
   "metadata": {},
   "outputs": [],
   "source": [
    "\n",
    "players_clean <- players_clean |>\n",
    "  mutate(\n",
    "    top_player = factor(\n",
    "      top_player,\n",
    "      levels = c(\"top\", \"not_top\")   # ensure “top” is the first level\n",
    "    )\n",
    "  )\n"
   ]
  },
  {
   "cell_type": "markdown",
   "id": "88f85135-85fe-4043-94a8-4ef5270e1379",
   "metadata": {},
   "source": [
    "Exploratory data summary:"
   ]
  },
  {
   "cell_type": "code",
   "execution_count": null,
   "id": "8acb12ea-3736-4546-a2bb-e6f4e84b2822",
   "metadata": {},
   "outputs": [],
   "source": [
    "players_clean |>\n",
    "  summarise(\n",
    "    n_players    = n(),\n",
    "    min_age      = min(Age, na.rm = TRUE),\n",
    "    mean_age     = mean(Age, na.rm = TRUE),\n",
    "    max_age      = max(Age, na.rm = TRUE),\n",
    "    sd_age       = sd(Age, na.rm = TRUE),\n",
    "    min_hours    = min(played_hours, na.rm = TRUE),\n",
    "    mean_hours   = mean(played_hours, na.rm = TRUE),\n",
    "    max_hours    = max(played_hours, na.rm = TRUE),\n",
    "    sd_hours     = sd(played_hours, na.rm = TRUE)\n",
    "  ) |>\n",
    "  print()"
   ]
  },
  {
   "cell_type": "markdown",
   "id": "eab02928-5979-4ebb-89a4-8067c7f9f134",
   "metadata": {},
   "source": [
    "Bar chart of avg hours by experience:"
   ]
  },
  {
   "cell_type": "code",
   "execution_count": null,
   "id": "0349e855-ae2c-473d-8926-ffd55c3b3f7b",
   "metadata": {},
   "outputs": [],
   "source": [
    "avg_hours <- players_clean |>\n",
    "  group_by(experience) |>\n",
    "  summarise(mean_hours = mean(played_hours, na.rm = TRUE))\n",
    "\n",
    "\n",
    "figure_1 <- ggplot(avg_hours, aes(x = experience, y = mean_hours)) +\n",
    "  geom_bar(stat = \"identity\", fill = \"lightblue\") +\n",
    "  labs(\n",
    "    title = \"Figure 1. Average Played Hours by Experience Level\",\n",
    "    x = \"Experience Level\",\n",
    "    y = \"Mean Total Hours Played\"\n",
    "  ) +\n",
    "  theme_minimal()\n",
    "figure_1"
   ]
  },
  {
   "cell_type": "markdown",
   "id": "6278e791-d3db-44bb-8c6f-f98676de2ea1",
   "metadata": {},
   "source": [
    "Bar Chart by Gender:"
   ]
  },
  {
   "cell_type": "code",
   "execution_count": null,
   "id": "286a3e08-7453-45d5-beb2-4097ee5773fa",
   "metadata": {},
   "outputs": [],
   "source": [
    "avg_hours_gender <- players_clean |>\n",
    "  group_by(gender) |>\n",
    "  summarise(mean_hours = mean(played_hours, na.rm = TRUE))"
   ]
  },
  {
   "cell_type": "code",
   "execution_count": null,
   "id": "5afa1338-3369-462f-bcea-3cfde7e92cb9",
   "metadata": {},
   "outputs": [],
   "source": [
    "figure_2 <- ggplot(avg_hours_gender, aes(x = gender, y = mean_hours)) +\n",
    "  geom_bar(stat = \"identity\", fill = \"forestgreen\") +\n",
    "  labs(\n",
    "    title = \"Figure 2. Average Played Hours by Gender\",\n",
    "    x     = \"Gender\",\n",
    "    y     = \"Mean Total Hours Played\"\n",
    "  ) +\n",
    "  theme_minimal()\n",
    "figure_2"
   ]
  },
  {
   "cell_type": "code",
   "execution_count": null,
   "id": "b1067dd2-f987-4c0b-8461-8a2bbfa80fdc",
   "metadata": {},
   "outputs": [],
   "source": [
    "figure_3 <- ggplot(players_clean, aes(x = played_hours)) +\n",
    "  geom_histogram(bins = 30) +\n",
    "  facet_wrap(~ gender) +\n",
    "  labs(\n",
    "    title = \"Figure 3. Distribution of Played Hours by Gender\",\n",
    "    x     = \"Total Hours Played\",\n",
    "    y     = \"Count\"\n",
    "  ) +\n",
    "  theme_minimal()\n",
    "figure_3"
   ]
  },
  {
   "cell_type": "markdown",
   "id": "cb13e857-4347-4ac5-b2d3-d85326b9b617",
   "metadata": {},
   "source": [
    "Bar graph of the mean of total hours played by age group:"
   ]
  },
  {
   "cell_type": "code",
   "execution_count": null,
   "id": "5d47181b-f027-4f5b-9992-afcaf171255e",
   "metadata": {},
   "outputs": [],
   "source": [
    "players_binned <- players_clean |>\n",
    "  mutate(age_group = cut(Age, breaks = seq(10, 50, by = 5), right = FALSE,\n",
    "                         labels = c(\"10–14\",\"15–19\",\"20–24\",\"25–29\",\"30–34\",\"35–39\",\"40–44\",\"45–50\")))\n",
    "\n",
    "# 2. Summarize: mean hours per bin\n",
    "bin_summary <- players_binned |>\n",
    "  group_by(age_group) |>\n",
    "  summarise(mean_hours = mean(played_hours, na.rm = TRUE))\n",
    "\n",
    "# 3. Plot\n",
    "figure_4 <-ggplot(bin_summary, aes(x = age_group, y = mean_hours)) +\n",
    "  geom_bar(stat = \"identity\", fill = \"orchid\") +\n",
    "  labs(\n",
    "    title = \"Figure 3. Mean Total Hours Played by Age Group\",\n",
    "    x     = \"Age Group\",\n",
    "    y     = \"Mean Total Hours Played\"\n",
    "  ) +\n",
    "  theme_minimal() +\n",
    "  theme(axis.text.x = element_text(angle = 45, hjust = 1))\n",
    "figure_4"
   ]
  },
  {
   "cell_type": "code",
   "execution_count": null,
   "id": "da2f70be-9c65-4497-8a35-77044621d91f",
   "metadata": {},
   "outputs": [],
   "source": [
    "figure_5 <- ggplot(players_binned, aes(x = age_group)) +\n",
    "  geom_bar(fill = \"coral\") +\n",
    "  labs(\n",
    "    title = \"Figure X. Number of Players by Age Group\",\n",
    "    x     = \"Age Group\",\n",
    "    y     = \"Number of Players\"\n",
    "  ) +\n",
    "  theme_minimal() +\n",
    "  theme(axis.text.x = element_text(angle = 45, hjust = 1))\n",
    "figure_5"
   ]
  },
  {
   "cell_type": "markdown",
   "id": "67c19ee8-4ea4-456c-ba8a-68eef8308f14",
   "metadata": {},
   "source": [
    "Modeling: k-nn"
   ]
  },
  {
   "cell_type": "code",
   "execution_count": null,
   "id": "47fc53bc-42b9-4eee-a31a-4476d2d25965",
   "metadata": {},
   "outputs": [],
   "source": [
    "# Remove any rows with missing predictors or missing target\n",
    "players_model <- players_clean |>\n",
    "  drop_na(Age, experience_num, gender, top_player)\n"
   ]
  },
  {
   "cell_type": "code",
   "execution_count": null,
   "id": "8081bb45-6330-4f7f-ad3a-2fd04d18e778",
   "metadata": {},
   "outputs": [],
   "source": [
    "set.seed(999)\n",
    "split   <- initial_split(players_model, prop = 0.8, strata = top_player)\n",
    "trainingset   <- training(split)\n",
    "testingset <- testing(split)\n",
    "\n",
    "player_recipe <- recipe(top_player ~ Age + gender + experience_num, data = trainingset) |>\n",
    "  step_normalize(all_numeric_predictors())\n",
    "\n",
    "knn_spec <- nearest_neighbor(neighbors = tune()) |>\n",
    "  set_engine(\"kknn\") |>\n",
    "  set_mode(\"classification\")\n",
    "\n",
    "wf <- workflow() |>\n",
    "  add_recipe(player_recipe) |>\n",
    "  add_model(knn_spec)\n",
    "\n",
    "folds  <- vfold_cv(trainingset, v = 5, strata = top_player)\n",
    "k_grid <- tibble(neighbors = 1:20)\n",
    "tuned  <- tune_grid(wf, resamples = folds, grid = k_grid)\n",
    "best_k <- select_best(tuned, \"accuracy\")\n",
    "best_k\n",
    "\n",
    "final_wf  <- finalize_workflow(wf, best_k)\n",
    "final_fit <- fit(final_wf, data = trainingset)\n",
    "\n"
   ]
  },
  {
   "cell_type": "code",
   "execution_count": null,
   "id": "3aeaf98e-6160-46d5-86be-98efedd16ae0",
   "metadata": {},
   "outputs": [],
   "source": []
  },
  {
   "cell_type": "code",
   "execution_count": null,
   "id": "a9f1f496-031c-4b3d-9a15-6c1faff9c675",
   "metadata": {},
   "outputs": [],
   "source": [
    "# 1. Finalize the workflow with the best k\n",
    "final_wf <- finalize_workflow(wf, best_k)\n",
    "\n",
    "# 2. Fit the final model on the entire training set\n",
    "final_fit <- fit(final_wf, data = trainingset)\n",
    "\n",
    "# 3. Make class predictions on the test set\n",
    "test_results <- predict(final_fit, testingset, type = \"class\") |>\n",
    "  bind_cols(testingset)\n",
    "\n",
    "# 4. Evaluate performance\n",
    "test_results |>\n",
    "  metrics(truth = top_player, estimate = .pred_class) |>\n",
    "  filter(.metric %in% c(\"accuracy\", \"precision\", \"recall\"))\n",
    "\n",
    "#  4a. Confusion matrix\n",
    "test_results |>\n",
    "  conf_mat(truth = top_player, estimate = .pred_class)"
   ]
  },
  {
   "cell_type": "markdown",
   "id": "c77e9943-47b0-41ff-b076-0b5c3934cad2",
   "metadata": {},
   "source": [
    "It correctly classified 29 non-top players.\n",
    "\n",
    "It misclassified 4 non-top players as top.\n",
    "\n",
    "It failed to identify any of the actual top players (0 true positives, 0 predicted tops)."
   ]
  },
  {
   "cell_type": "markdown",
   "id": "a7ab7203-ea5c-48fb-84e7-978a32f2ca01",
   "metadata": {},
   "source": [
    "tune for recall:\n"
   ]
  },
  {
   "cell_type": "code",
   "execution_count": null,
   "id": "22831a33-431e-41a5-9f61-dcab8251f66a",
   "metadata": {},
   "outputs": [],
   "source": [
    "recall_metrics <- metric_set(recall)\n",
    "# 2) Tune k to maximize recall\n",
    "set.seed(999)\n",
    "tuned_recall <- tune_grid(\n",
    "  wf,                \n",
    "  resamples = folds, \n",
    "  grid      = k_grid,\n",
    "  metrics   = recall_metrics\n",
    ")\n",
    "\n",
    "# 2a. Inspect best k by recall\n",
    "best_k_recall <- tuned_recall |>\n",
    "select_best(\"recall\")\n",
    "best_k_recall\n",
    "\n",
    "# 3) Finalize and fit the recall‐optimized workflow\n",
    "final_wf_rec <- finalize_workflow(wf, best_k_recall)\n",
    "\n",
    "final_fit_rec <- fit(\n",
    "  final_wf_rec,\n",
    "  data = trainingset  \n",
    ")\n",
    "\n",
    "# 4) Predict and evaluate on the test set\n",
    "\n",
    "test_results_rec <- predict(final_fit_rec, testingset, type = \"class\") |>\n",
    "  bind_cols(testingset)\n",
    "\n",
    "# 4a. Compute accuracy, precision, and recall\n",
    "test_results_rec |>\n",
    "  metrics(truth = top_player, estimate = .pred_class) |>\n",
    "  filter(.metric %in% c(\"accuracy\", \"precision\", \"recall\"))\n",
    "\n",
    "# 4b. Show the confusion matrix\n",
    "test_results_rec |>\n",
    "  conf_mat(truth = top_player, estimate = .pred_class) |>\n",
    "autoplot(type = \"heatmap\") +\n",
    "  labs(title = \"Recall-Tuned k-NN Confusion Matrix\") +\n",
    "  theme_minimal()"
   ]
  },
  {
   "cell_type": "code",
   "execution_count": null,
   "id": "c562c9ff-ab8a-43ef-b126-625acbed47f6",
   "metadata": {},
   "outputs": [],
   "source": []
  },
  {
   "cell_type": "code",
   "execution_count": null,
   "id": "3dd38bf4-8a03-437c-b431-5c38dfe91259",
   "metadata": {},
   "outputs": [],
   "source": []
  },
  {
   "cell_type": "code",
   "execution_count": null,
   "id": "b2bc567b-a51d-47f8-9efa-ea5f47fe1ed9",
   "metadata": {},
   "outputs": [],
   "source": []
  },
  {
   "cell_type": "code",
   "execution_count": null,
   "id": "05269aa9-2dce-4c09-9b74-b307837542d7",
   "metadata": {},
   "outputs": [],
   "source": []
  },
  {
   "cell_type": "code",
   "execution_count": null,
   "id": "dece1ea3-aed0-4911-99c1-d477b3250f6c",
   "metadata": {},
   "outputs": [],
   "source": []
  }
 ],
 "metadata": {
  "kernelspec": {
   "display_name": "R",
   "language": "R",
   "name": "ir"
  },
  "language_info": {
   "codemirror_mode": "r",
   "file_extension": ".r",
   "mimetype": "text/x-r-source",
   "name": "R",
   "pygments_lexer": "r",
   "version": "4.3.3"
  }
 },
 "nbformat": 4,
 "nbformat_minor": 5
}
